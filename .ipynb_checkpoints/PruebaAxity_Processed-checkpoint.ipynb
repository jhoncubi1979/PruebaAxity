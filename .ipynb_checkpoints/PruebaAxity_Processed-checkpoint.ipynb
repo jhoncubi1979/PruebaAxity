{
 "cells": [
  {
   "cell_type": "code",
   "execution_count": null,
   "id": "2741b3cc-bf9d-405d-8555-824ac250d31a",
   "metadata": {},
   "outputs": [],
   "source": [
    "# Analisis descriptivo\n",
    "# Se incluirán gráficos relevantes para las variables categóricas y cuantitativas."
   ]
  },
  {
   "cell_type": "code",
   "execution_count": null,
   "id": "e30891ed-8c5a-4a32-8b42-b1c3be6bc54e",
   "metadata": {},
   "outputs": [],
   "source": [
    "pip install dash plotly\n"
   ]
  },
  {
   "cell_type": "code",
   "execution_count": null,
   "id": "784cdb3a-aafa-4a25-98f9-f67bfa93db93",
   "metadata": {},
   "outputs": [],
   "source": [
    "pip install torch torchvision torchaudio --index-url https://download.pytorch.org/whl/cpu\n"
   ]
  },
  {
   "cell_type": "code",
   "execution_count": null,
   "id": "ee5c8fd6-977f-4e07-93d5-aee0b28c491d",
   "metadata": {},
   "outputs": [],
   "source": [
    "pip install tf-keras"
   ]
  },
  {
   "cell_type": "code",
   "execution_count": null,
   "id": "f63d13c4-c32a-41e8-94f2-5efac0fb0a45",
   "metadata": {},
   "outputs": [],
   "source": [
    "pip install torch"
   ]
  },
  {
   "cell_type": "code",
   "execution_count": null,
   "id": "86d63bc5-52d4-48ab-a8ca-007daa56e8d3",
   "metadata": {},
   "outputs": [],
   "source": [
    "pip install tensorflow"
   ]
  },
  {
   "cell_type": "code",
   "execution_count": null,
   "id": "487c6073-afd5-46e9-975e-8dbc49a974ee",
   "metadata": {},
   "outputs": [],
   "source": [
    "pip install transformers"
   ]
  },
  {
   "cell_type": "code",
   "execution_count": null,
   "id": "71cd40a7-f5c2-43a3-8058-a025ce8d70b6",
   "metadata": {},
   "outputs": [],
   "source": [
    "pip install textblob googletrans==4.0.0-rc1"
   ]
  },
  {
   "cell_type": "code",
   "execution_count": null,
   "id": "fb1b397d-0402-4613-ac30-503e83869a2e",
   "metadata": {},
   "outputs": [],
   "source": [
    "pip install rapidfuzz"
   ]
  },
  {
   "cell_type": "code",
   "execution_count": null,
   "id": "4992a8f5-f7e8-4d52-9a37-68d15a9b3130",
   "metadata": {},
   "outputs": [],
   "source": [
    "!pip install textblob"
   ]
  },
  {
   "cell_type": "code",
   "execution_count": null,
   "id": "2ef659f3-ddab-4edd-bbdc-e01bd0be940d",
   "metadata": {},
   "outputs": [],
   "source": [
    "# -------------------------------\n",
    "# Importación de librerías necesarias\n",
    "# -------------------------------\n",
    "\n",
    "# Librerías de análisis y procesamiento de datos\n",
    "import pandas as pd\n",
    "import numpy as np\n",
    "\n",
    "# Visualización de datos\n",
    "import matplotlib.pyplot as plt\n",
    "import seaborn as sns\n",
    "import plotly.express as px\n",
    "from wordcloud import WordCloud\n",
    "\n",
    "# Procesamiento de texto (nlp)\n",
    "import re\n",
    "import nltk\n",
    "from nltk.corpus import stopwords\n",
    "from nltk.tokenize import word_tokenize\n",
    "from nltk.stem import WordNetLemmatizer\n",
    "from sklearn.feature_extraction.text import TfidfVectorizer\n",
    "from textblob import TextBlob\n",
    "from transformers import pipeline\n",
    "from rapidfuzz import process, fuzz\n",
    "\n",
    "# Clustering y preprocesamiento\n",
    "from sklearn.cluster import KMeans\n",
    "from sklearn.preprocessing import StandardScaler, OneHotEncoder\n",
    "from sklearn.compose import ColumnTransformer\n",
    "from sklearn.pipeline import Pipeline\n",
    "from scipy.cluster.hierarchy import dendrogram, linkage\n",
    "\n",
    "# Dash (dashboard interactivo)\n",
    "import dash\n",
    "import dash_core_components as dcc\n",
    "import dash_html_components as html\n",
    "from dash.dependencies import Input, Output"
   ]
  },
  {
   "cell_type": "code",
   "execution_count": null,
   "id": "e4cc77ab-4192-4c50-8e1d-c12aa42f2233",
   "metadata": {},
   "outputs": [],
   "source": [
    "# Descargar recursos necesarios de nltk\n",
    "nltk.download('punkt')  # Tokenizador\n",
    "nltk.download('stopwords')  # Stopwords\n",
    "nltk.download('wordnet')  # Lemmatizer\n",
    "nltk.download('omw-1.4')  # Recurso adicional para lemmatizer"
   ]
  },
  {
   "cell_type": "code",
   "execution_count": null,
   "id": "80f57cb0-61b6-44cb-8d09-58cb2a6d64c8",
   "metadata": {},
   "outputs": [],
   "source": [
    "# Configuración de visualización\n",
    "sns.set(style=\"whitegrid\")"
   ]
  },
  {
   "cell_type": "code",
   "execution_count": null,
   "id": "d8a9b903-4ae3-4131-ac5f-5ce5d14964ee",
   "metadata": {},
   "outputs": [],
   "source": [
    "# Cargar el dataset\n",
    "data = pd.read_csv(\"Dirty_Evaluation_Data.csv\")"
   ]
  },
  {
   "cell_type": "code",
   "execution_count": null,
   "id": "4ee94d64-d8d4-4f23-83c2-a03c3663b27d",
   "metadata": {},
   "outputs": [],
   "source": [
    "# Información general del dataset\n",
    "print(\"\\n\\n=== Información General del Dataset ===\\n\")\n",
    "data.info()"
   ]
  },
  {
   "cell_type": "code",
   "execution_count": null,
   "id": "10d17948-3c67-406a-b80b-fbe1f1e3f782",
   "metadata": {},
   "outputs": [],
   "source": [
    "# Estadísticas descriptivas\n",
    "print(\"\\n\\n=== Estadísticas Descriptivas ===\\n\")\n",
    "print(data.describe(include='all'))"
   ]
  },
  {
   "cell_type": "code",
   "execution_count": null,
   "id": "f3bcc283-50b1-4a9c-8891-a075de7f6ac2",
   "metadata": {},
   "outputs": [],
   "source": [
    "# Visualizar las primeras filas del dataset\n",
    "print(\"\\n\\n=== Primeras Filas del Dataset ===\\n\")\n",
    "print(data.head())"
   ]
  },
  {
   "cell_type": "code",
   "execution_count": null,
   "id": "0c9ae73a-faa5-4c34-bac8-4d5fc00c8b4e",
   "metadata": {},
   "outputs": [],
   "source": [
    "# Verificar valores nulos por columna\n",
    "print(\"\\n\\n=== Valores Nulos por Columna ===\\n\")\n",
    "null_counts = data.isnull().sum()\n",
    "null_percent = (data.isnull().mean() * 100).round(2)\n",
    "nulls = pd.DataFrame({\"Valores Nulos\": null_counts, \"Porcentaje (%)\": null_percent})\n",
    "print(nulls)"
   ]
  },
  {
   "cell_type": "code",
   "execution_count": null,
   "id": "7466abdc-de36-43e2-94fa-12e2921c4b4d",
   "metadata": {},
   "outputs": [],
   "source": [
    "# Visualización de la distribución de valores nulos\n",
    "plt.figure(figsize=(10, 6))\n",
    "sns.heatmap(data.isnull(), cbar=False, cmap=\"viridis\")\n",
    "plt.title(\"Mapa de Calor de Valores Nulos\")\n",
    "plt.show()"
   ]
  },
  {
   "cell_type": "code",
   "execution_count": null,
   "id": "28c09882-618d-4c89-8b8a-1cf323c76c14",
   "metadata": {},
   "outputs": [],
   "source": [
    "# Reprocesamiento voy hacer arreglos necesarios que vi pertintentes en algunas variables"
   ]
  },
  {
   "cell_type": "code",
   "execution_count": null,
   "id": "50ffa6ef-c796-416d-8c82-c3c2de625015",
   "metadata": {},
   "outputs": [],
   "source": [
    "# Definir columnas afectadas con formato esperado\n",
    "columnas_a_corregir = {\n",
    "    'Id Instructor': 10,                 # Debe tener exactamente 10 dígitos\n",
    "    'Curso': 6,                          # Debe tener 6 dígitos\n",
    "    'Nº Clase': 4,                       # Debe tener 5 dígitos\n",
    "    'Nota final por curso': 'nota',      # Notas deben ser tipo decimal\n",
    "    'Nota final por clase': 'nota',      # Notas deben ser tipo decimal\n",
    "    'Total Evaluaciones generadas': 4,   # Máximo 4 dígitos\n",
    "    'Evaluaciones realizadas': 4,        # Máximo 4 dígitos\n",
    "    '% de participación': 'porcentaje'  # Porcentajes deben estar entre 0 y 100\n",
    "}"
   ]
  },
  {
   "cell_type": "code",
   "execution_count": null,
   "id": "e59f3e70-c678-4e48-99c6-e4a2a5ecaeff",
   "metadata": {},
   "outputs": [],
   "source": [
    "# Función para corregir valores mal formateados\n",
    "def corregir_valor(valor, formato):\n",
    "    try:\n",
    "        if pd.isna(valor):  # Si es NaN, no lo tocamos\n",
    "            return valor\n",
    "        if formato == 'nota':  # Corregir notas mal formateadas como 50 -> 5.0\n",
    "            valor = float(valor)\n",
    "            return valor / 10 if valor > 10 else valor\n",
    "        elif formato == 'porcentaje':  # Asegurar que el porcentaje esté entre 0 y 100\n",
    "            return float(valor) if 0 <= float(valor) <= 100 else np.nan\n",
    "        else:  # Para truncar según el número de dígitos especificado\n",
    "            valor_str = str(int(valor))  # Convertir a entero y luego a cadena\n",
    "            return int(valor_str[:formato]) if len(valor_str) > formato else int(valor_str)\n",
    "    except:\n",
    "        return np.nan  # En caso de error, devolver NaN"
   ]
  },
  {
   "cell_type": "code",
   "execution_count": null,
   "id": "1fe344dd-b9f3-440b-8c3b-f3c329882eed",
   "metadata": {},
   "outputs": [],
   "source": [
    "# Aplicar correcciones a las columnas afectadas\n",
    "for columna, formato in columnas_a_corregir.items():\n",
    "    data[columna] = data[columna].apply(lambda x: corregir_valor(x, formato))"
   ]
  },
  {
   "cell_type": "code",
   "execution_count": null,
   "id": "e12ffdde-2e60-4172-8ff4-df154cba2a3a",
   "metadata": {},
   "outputs": [],
   "source": [
    "# Ajustes en variables categoricas\n"
   ]
  },
  {
   "cell_type": "code",
   "execution_count": null,
   "id": "ca3cbace-0683-4f3a-a5be-9c11bed334a2",
   "metadata": {},
   "outputs": [],
   "source": [
    "# Definir las categorías válidas para las columnas restantes\n",
    "categorias_validas = {\n",
    "    'Modo de Enseñanza': ['Presencial', 'Virtual Formal'],\n",
    "    'Grado Académico': ['PREG', 'DOCT', 'MSTR']\n",
    "}"
   ]
  },
  {
   "cell_type": "code",
   "execution_count": null,
   "id": "f4b8f9e5-9f4e-4814-9306-d1f3e8281bec",
   "metadata": {},
   "outputs": [],
   "source": [
    "# Función para eliminar espacios vacíos dentro de las respuestas\n",
    "def eliminar_espacios(valor):\n",
    "    if pd.isna(valor):  # Si el valor es NaN, no lo procesamos\n",
    "        return valor\n",
    "    return \" \".join(str(valor).split())  # Elimina espacios múltiples y alrededor"
   ]
  },
  {
   "cell_type": "code",
   "execution_count": null,
   "id": "915d5c5b-93ca-426e-8298-d6b115a12f2a",
   "metadata": {},
   "outputs": [],
   "source": [
    "# Función para corregir las categorías utilizando fuzzy matching\n",
    "def corregir_categorias(valor, categorias):\n",
    "    if pd.isna(valor):  # Si el valor es NaN, no lo procesamos\n",
    "        return valor\n",
    "    \n",
    "    valor_normalizado = str(valor).strip().upper()  # Normalizamos el texto y lo pasamos a mayúsculas\n",
    "    \n",
    "# # usar fuzzy matching para encontrar el mejor match\n",
    "    mejor_match = process.extractOne(valor_normalizado, categorias)\n",
    "    \n",
    "# # si se encontró un match, devuelve la categoría correspondiente\n",
    "    if mejor_match:\n",
    "        return mejor_match[0]  # Devuelve el valor del mejor match\n",
    "    \n",
    "    return valor  # Si no hay match, devuelve el valor original"
   ]
  },
  {
   "cell_type": "code",
   "execution_count": null,
   "id": "2d6a1891-c0e8-4db9-9951-1798fa735214",
   "metadata": {},
   "outputs": [],
   "source": [
    "# Aplicar eliminación de espacios a las columnas categóricas\n",
    "columnas_categoricas = ['Modo de Enseñanza', 'Grado Académico']\n",
    "for columna in columnas_categoricas:\n",
    "    data[columna] = data[columna].apply(eliminar_espacios)"
   ]
  },
  {
   "cell_type": "code",
   "execution_count": null,
   "id": "9d6b843f-2825-4a3f-9ac7-585a1a4874df",
   "metadata": {},
   "outputs": [],
   "source": [
    "from rapidfuzz import process"
   ]
  },
  {
   "cell_type": "code",
   "execution_count": null,
   "id": "ef8beafc-79a4-4e0a-ac47-5c8ad1ab28bb",
   "metadata": {},
   "outputs": [],
   "source": [
    "# Corregir las categorías para \"grado académico\"\n",
    "data['Grado Académico'] = data['Grado Académico'].apply(lambda x: corregir_categorias(x, categorias_validas['Grado Académico']))"
   ]
  },
  {
   "cell_type": "code",
   "execution_count": null,
   "id": "56f887f4-9605-402d-b150-0356cc61f64b",
   "metadata": {},
   "outputs": [],
   "source": [
    "# Corregir las categorías para \"modo de enseñanza\"\n",
    "data['Modo de Enseñanza'] = data['Modo de Enseñanza'].apply(lambda x: corregir_categorias(x, categorias_validas['Modo de Enseñanza']))"
   ]
  },
  {
   "cell_type": "code",
   "execution_count": null,
   "id": "7e5f4d49-9003-468c-b9e1-15ff505432b8",
   "metadata": {},
   "outputs": [],
   "source": [
    "# Función para limpiar la columna catálogo\n",
    "def limpiar_catalogo(valor):\n",
    "    if pd.isna(valor):  # Si el valor es NaN, no lo procesamos\n",
    "        return valor\n",
    "# # eliminar todos los espacios en blanco\n",
    "    valor_limpio = \"\".join(str(valor).split())  \n",
    "    return valor_limpio"
   ]
  },
  {
   "cell_type": "code",
   "execution_count": null,
   "id": "38244c04-473a-4ea9-b44c-64ae2e22ca90",
   "metadata": {},
   "outputs": [],
   "source": [
    "# Aplicar la limpieza a la columna 'catálogo'\n",
    "data['Catálogo'] = data['Catálogo'].apply(limpiar_catalogo)"
   ]
  },
  {
   "cell_type": "code",
   "execution_count": null,
   "id": "9086f92c-1d3f-4d56-beb4-6991d66bddfb",
   "metadata": {},
   "outputs": [],
   "source": [
    "# Función para organizar la columna 'catálogo' a 6 caracteres: dos letras seguidas de 4 números\n",
    "def organizar_catalogo(valor):\n",
    "    if pd.isna(valor):  # Si el valor es NaN, no lo procesamos\n",
    "        return valor\n",
    "# # eliminar todos los espacios en blanco\n",
    "    valor = \"\".join(str(valor).split())\n",
    "    \n",
    "# # separar las letras y los números\n",
    "    letras = \"\".join([c for c in valor if c.isalpha()])  # Extraer letras\n",
    "    numeros = \"\".join([c for c in valor if c.isdigit()])  # Extraer números\n",
    "    \n",
    "# # asegurarse de que hay al menos 2 letras y 4 números\n",
    "    letras = letras[:2]  # Tomar solo las primeras dos letras\n",
    "    numeros = numeros[:4]  # Tomar solo los primeros 4 números\n",
    "    \n",
    "# # concatenar las letras y números asegurando que siempre sean 6 caracteres\n",
    "    catalogo_organizado = letras + numeros\n",
    "    return catalogo_organizado\n",
    "\n",
    "# Aplicar la organización a la columna 'catálogo'\n",
    "data['Catálogo'] = data['Catálogo'].apply(organizar_catalogo)\n",
    "  "
   ]
  },
  {
   "cell_type": "code",
   "execution_count": null,
   "id": "14ba7eda-34d4-4799-9f26-a4ab6957b090",
   "metadata": {},
   "outputs": [],
   "source": [
    "# Definir las categorías o nombres correctos para los catálogos\n",
    "categorias_catalogo = ['Psicología General I', 'Matemáticas II', 'Biología Molecular', 'Química Orgánica']\n",
    "\n",
    "# Función para corregir las palabras mal ordenadas en el catálogo\n",
    "def corregir_catalogo(valor, categorias):\n",
    "    if pd.isna(valor):  # Si el valor es NaN, no lo procesamos\n",
    "        return valor\n",
    "    \n",
    "    valor_normalizado = str(valor).strip().lower()  # Normalizamos el texto y lo pasamos a minúsculas\n",
    "# # usamos fuzzy matching para encontrar el mejor match\n",
    "    mejor_match = process.extractOne(valor_normalizado, categorias, scorer=fuzz.ratio)\n",
    "    \n",
    "# # `mejor_match` ahora es una tupla (mejor_match, score), así que accedemos al primer valor\n",
    "    return mejor_match[0] if mejor_match else valor  # Si no hay match, devolvemos el valor original\n"
   ]
  },
  {
   "cell_type": "code",
   "execution_count": null,
   "id": "5ec666dd-8d9c-45b1-be45-45ea791a6117",
   "metadata": {},
   "outputs": [],
   "source": [
    "# Aplicar la corrección a la columna 'nombre catalogo'\n",
    "data['Nombre Catalogo'] = data['Nombre Catalogo'].apply(lambda x: corregir_catalogo(x, categorias_catalogo))"
   ]
  },
  {
   "cell_type": "code",
   "execution_count": null,
   "id": "4dc40a01-79b6-411b-ac87-02f9dd230ef5",
   "metadata": {},
   "outputs": [],
   "source": [
    "# Definir las categorías correctas para \"centro de costos\"\n",
    "categorias_centros_costos = ['Psicología', 'Matemáticas', 'Biología', 'Química', 'Física', 'Administración', 'Derecho', 'Ingeniería', 'Comunicación']"
   ]
  },
  {
   "cell_type": "code",
   "execution_count": null,
   "id": "6d9fd185-6955-4682-94c4-bc90e8f7f960",
   "metadata": {},
   "outputs": [],
   "source": [
    "# Función para corregir las palabras mal ordenadas en el \"centro de costos\"\n",
    "def corregir_centro_costos(valor, categorias):\n",
    "    if pd.isna(valor):  # Si el valor es NaN, no lo procesamos\n",
    "        return valor\n",
    "    \n",
    "    valor_normalizado = str(valor).strip().lower()  # Normalizamos el texto y lo pasamos a minúsculas\n",
    "# # usamos fuzzy matching para encontrar el mejor match\n",
    "    resultado = process.extractOne(valor_normalizado, categorias, scorer=fuzz.ratio)\n",
    "    \n",
    "# # si se encuentra un match, devolvemos el mejor match\n",
    "    if resultado:\n",
    "        mejor_match = resultado[0]\n",
    "        return mejor_match\n",
    "    return valor  # Si no hay match, devolvemos el valor original\n"
   ]
  },
  {
   "cell_type": "code",
   "execution_count": null,
   "id": "2db4a898-0f12-4741-88c0-7f27abf15cf3",
   "metadata": {},
   "outputs": [],
   "source": [
    "# Aplicar la corrección a la columna 'centro de costos'\n",
    "data['Centro de Costos'] = data['Centro de Costos'].apply(lambda x: corregir_centro_costos(x, categorias_centros_costos))"
   ]
  },
  {
   "cell_type": "code",
   "execution_count": null,
   "id": "86a6dd69-7871-4e83-bb23-7d25ce0cc3b7",
   "metadata": {},
   "outputs": [],
   "source": [
    "# Definir las categorías correctas para la columna 'pregunta'\n",
    "categorias_pregunta = [\n",
    "    'Menciona un aspecto a mejorar del desempeño de tu profe en el aula',\n",
    "    '¿Tienes algún comentario adicional de tu profe o del curso?'\n",
    "]"
   ]
  },
  {
   "cell_type": "code",
   "execution_count": null,
   "id": "e66f5056-5159-4480-bec0-1b6b625aa67d",
   "metadata": {},
   "outputs": [],
   "source": [
    "# Función para corregir las palabras mal ordenadas en la columna 'pregunta'\n",
    "def corregir_pregunta(valor, categorias):\n",
    "    if pd.isna(valor):  # Si el valor es NaN, no lo procesamos\n",
    "        return valor\n",
    "    \n",
    "    valor_normalizado = str(valor).strip().lower()  # Normalizamos el texto y lo pasamos a minúsculas\n",
    "# # usamos fuzzy matching para encontrar el mejor match\n",
    "    resultado = process.extractOne(valor_normalizado, categorias, scorer=fuzz.ratio)\n",
    "    \n",
    "# # si se encuentra un match, devolvemos el mejor match\n",
    "    if resultado:\n",
    "        mejor_match = resultado[0]\n",
    "        return mejor_match\n",
    "    return valor  # Si no hay match, devolvemos el valor original"
   ]
  },
  {
   "cell_type": "code",
   "execution_count": null,
   "id": "9e559b46-e5b0-4ad3-b36e-12193a30a4c7",
   "metadata": {},
   "outputs": [],
   "source": [
    "# Aplicar la corrección a la columna 'pregunta'\n",
    "data['Pregunta'] = data['Pregunta'].apply(lambda x: corregir_pregunta(x, categorias_pregunta))"
   ]
  },
  {
   "cell_type": "code",
   "execution_count": null,
   "id": "300083b6-aefd-489d-8663-cdab534413fd",
   "metadata": {},
   "outputs": [],
   "source": [
    "# Eliminar la columna 'comentarios' no veo como sume para el analisis\n",
    "data = data.drop(columns=['Competencia Evaluada'])"
   ]
  },
  {
   "cell_type": "code",
   "execution_count": null,
   "id": "bc6b0c47-7936-4a60-9ec0-1a2c4e712366",
   "metadata": {},
   "outputs": [],
   "source": [
    "# Limpieza de datos categóricos\n",
    "def clean_categorical_column(column):\n",
    "    return column.str.strip().str.lower().str.replace(r'[^a-z\\s]', '', regex=True).fillna(\"desconocido\")\n",
    "\n",
    "if 'Modo de Enseñanza' in data.columns:\n",
    "    data['Modo de Enseñanza'] = clean_categorical_column(data['Modo de Enseñanza'])\n",
    "if 'Centro de Costos' in data.columns:\n",
    "    \n",
    "    data['Centro de Costos'] = clean_categorical_column(data['Centro de Costos'])"
   ]
  },
  {
   "cell_type": "code",
   "execution_count": null,
   "id": "e7225251-12c7-484e-8493-a1fe0641c0b2",
   "metadata": {},
   "outputs": [],
   "source": [
    "# Visualizar distribuciones de variables numéricas\n",
    "numeric_cols = data.select_dtypes(include=['float64', 'int64']).columns\n",
    "\n",
    "for col in numeric_cols:\n",
    "    plt.figure(figsize=(8, 4))\n",
    "    sns.histplot(data[col].dropna(), kde=True, bins=30)\n",
    "    plt.title(f\"Distribución de {col}\")\n",
    "    plt.xlabel(col)\n",
    "    plt.ylabel(\"Frecuencia\")\n",
    "    plt.show()"
   ]
  },
  {
   "cell_type": "code",
   "execution_count": null,
   "id": "822a8434-d602-4382-b271-1c18f5ac3083",
   "metadata": {},
   "outputs": [],
   "source": [
    "# Verificar correlaciones entre variables numéricas\n",
    "plt.figure(figsize=(12, 8))\n",
    "correlation_matrix = data[numeric_cols].corr()\n",
    "sns.heatmap(correlation_matrix, annot=True, cmap=\"coolwarm\", fmt=\".2f\")\n",
    "plt.title(\"Mapa de Calor de Correlación\")\n",
    "plt.show()"
   ]
  },
  {
   "cell_type": "code",
   "execution_count": null,
   "id": "bf7e69e3-f770-4017-9642-36e3bf5c8932",
   "metadata": {},
   "outputs": [],
   "source": [
    "# Análisis de palabras clave en comentarios\n",
    "if 'Comentarios' in data.columns:\n",
    "    text_data = \" \".join(data['Comentarios'].dropna().astype(str))\n",
    "    wordcloud = WordCloud(width=800, height=400, background_color=\"white\").generate(text_data)\n",
    "    plt.figure(figsize=(10, 6))\n",
    "    plt.imshow(wordcloud, interpolation='bilinear')\n",
    "    plt.axis(\"off\")\n",
    "    plt.title(\"Nube de Palabras: Comentarios\")\n",
    "    plt.show()"
   ]
  },
  {
   "cell_type": "code",
   "execution_count": null,
   "id": "f9bca7c0-91f5-42da-b2e8-fd55a8690076",
   "metadata": {},
   "outputs": [],
   "source": [
    "# Llenar los valores nan con la moda de cada columna, para eficiencia del analisis , veo que es un 10% por columna y veo que lo puedo realzair asi\n",
    "for columna in data.columns:\n",
    "    moda = data[columna].mode()[0]  # Obtener la moda de la columna\n",
    "    data[columna] = data[columna].fillna(moda)  # Rellenar NaN con la moda"
   ]
  },
  {
   "cell_type": "code",
   "execution_count": null,
   "id": "9e4fd346-250b-4773-af5b-6d30d9b2202b",
   "metadata": {},
   "outputs": [],
   "source": [
    "# Eliminar valores nulos en la columna de comentarios (asumiendo que se llama 'comentarios')\n",
    "data = data.dropna(subset=['Comentarios'])"
   ]
  },
  {
   "cell_type": "code",
   "execution_count": null,
   "id": "d04b8003-82cb-4c5c-a6b0-c80136877f1d",
   "metadata": {},
   "outputs": [],
   "source": [
    "# Función para limpiar texto\n",
    "def clean_text(text):\n",
    "    text = text.lower()  # Convertir a minúsculas\n",
    "    text = re.sub(r'\\d+', '', text)  # Eliminar números\n",
    "    text = re.sub(r'[^\\w\\s]', '', text)  # Eliminar signos de puntuación\n",
    "    text = re.sub(r'\\s+', ' ', text)  # Eliminar espacios múltiples\n",
    "    return text"
   ]
  },
  {
   "cell_type": "code",
   "execution_count": null,
   "id": "a4f2f7f3-2be4-4c34-b805-e599a04d9d8a",
   "metadata": {},
   "outputs": [],
   "source": [
    "# Aplicar limpieza de texto\n",
    "data['Comentarios_limpios'] = data['Comentarios'].apply(clean_text)"
   ]
  },
  {
   "cell_type": "code",
   "execution_count": null,
   "id": "e33e57b9-f839-46f3-8571-8dd74f6a7b59",
   "metadata": {},
   "outputs": [],
   "source": [
    "# Eliminar stopwords\n",
    "stop_words = set(stopwords.words('spanish'))\n",
    "data['Comentarios_tokenizados'] = data['Comentarios_limpios'].apply(\n",
    "    lambda x: ' '.join([word for word in word_tokenize(x) if word not in stop_words])\n",
    ")\n",
    "\n",
    "print(data[['Comentarios', 'Comentarios_limpios', 'Comentarios_tokenizados']].head())"
   ]
  },
  {
   "cell_type": "code",
   "execution_count": null,
   "id": "f1ba21e2-efcd-40a8-b2b5-700138c5d003",
   "metadata": {},
   "outputs": [],
   "source": [
    "# Función para analizar el sentimiento\n",
    "def analizar_sentimiento(texto):\n",
    "    blob = TextBlob(texto)\n",
    "    polaridad = blob.sentiment.polarity\n",
    "    if polaridad > 0:\n",
    "        return \"positivo\"\n",
    "    elif polaridad < 0:\n",
    "        return \"negativo\"\n",
    "    else:\n",
    "        return \"neutro\""
   ]
  },
  {
   "cell_type": "code",
   "execution_count": null,
   "id": "2213dad5-edf1-41f2-89e6-d7545f006100",
   "metadata": {},
   "outputs": [],
   "source": [
    "# Cambia 'comentarios_limpios' por el nombre de la columna que deseas usar para el análisis\n",
    "data['sentimiento'] = data['Comentarios_limpios'].apply(analizar_sentimiento)"
   ]
  },
  {
   "cell_type": "code",
   "execution_count": null,
   "id": "01718825-f036-4916-8c1e-1e12f20bc475",
   "metadata": {},
   "outputs": [],
   "source": [
    "print(data[['Comentarios', 'sentimiento']].head())"
   ]
  },
  {
   "cell_type": "code",
   "execution_count": null,
   "id": "d02f05cb-e5b1-40af-b5d4-cdc2d8caf999",
   "metadata": {},
   "outputs": [],
   "source": [
    "print(data['sentimiento'].value_counts())"
   ]
  },
  {
   "cell_type": "code",
   "execution_count": null,
   "id": "23facd0a-d882-4fe4-b6b2-84210e41dbac",
   "metadata": {},
   "outputs": [],
   "source": [
    "# Gráfico de barras para la distribución de sentimientos\n",
    "plt.figure(figsize=(8, 6))\n",
    "sns.countplot(x='sentimiento', data=data, palette='coolwarm')\n",
    "plt.title('Distribución de Sentimientos')\n",
    "plt.xlabel('Sentimiento')\n",
    "plt.ylabel('Cantidad')\n",
    "plt.show()"
   ]
  },
  {
   "cell_type": "code",
   "execution_count": null,
   "id": "8e1b3f90-7a37-4182-aa65-c3efc4b5268d",
   "metadata": {},
   "outputs": [],
   "source": [
    "# Gráfico de dispersión para ver cómo la 'nota final por curso' se relaciona con los sentimientos\n",
    "plt.figure(figsize=(10, 6))\n",
    "sns.boxplot(x='sentimiento', y='Nota final por curso', data=data, palette='coolwarm')\n",
    "plt.title('Distribución de Nota Final por Curso según Sentimiento')\n",
    "plt.xlabel('Sentimiento')\n",
    "plt.ylabel('Nota Final por Curso')\n",
    "plt.show()"
   ]
  },
  {
   "cell_type": "code",
   "execution_count": null,
   "id": "621ea19d-dc94-4b06-9cb7-cdf91e0032ad",
   "metadata": {},
   "outputs": [],
   "source": [
    "# Gráfico de dispersión para ver cómo el '% de participación' se relaciona con los sentimientos\n",
    "plt.figure(figsize=(10, 6))\n",
    "sns.boxplot(x='sentimiento', y='% de participación', data=data, palette='coolwarm')\n",
    "plt.title('Distribución de % de Participación según Sentimiento')\n",
    "plt.xlabel('Sentimiento')\n",
    "plt.ylabel('% de Participación')\n",
    "plt.show()"
   ]
  },
  {
   "cell_type": "code",
   "execution_count": null,
   "id": "59463ba1-c45d-47c5-a3a2-874fe4ddbb53",
   "metadata": {},
   "outputs": [],
   "source": [
    "# Clusterización de textos"
   ]
  },
  {
   "cell_type": "code",
   "execution_count": null,
   "id": "ffad2f5d-223a-453c-a61f-a45db5ab1555",
   "metadata": {},
   "outputs": [],
   "source": [
    "# 1. verificar datos cargados\n",
    "print(data.head())\n",
    "print(data.info())"
   ]
  },
  {
   "cell_type": "code",
   "execution_count": null,
   "id": "0c40285a-1598-44af-87bc-3b1ba779c1e0",
   "metadata": {},
   "outputs": [],
   "source": [
    "# Mapear valores de sentimiento a números\n",
    "sentimiento_map = {\n",
    "    \"positivo\": 1,\n",
    "    \"neutro\": 0,\n",
    "    \"negativo\": -1\n",
    "}"
   ]
  },
  {
   "cell_type": "code",
   "execution_count": null,
   "id": "086a923d-cf68-466d-9e85-e703730b4481",
   "metadata": {},
   "outputs": [],
   "source": [
    "# Reemplazar valores de sentimiento por números\n",
    "data['sentimiento_numerico'] = data['sentimiento'].map(sentimiento_map)"
   ]
  },
  {
   "cell_type": "code",
   "execution_count": null,
   "id": "482dae81-eef6-460b-8245-81e1f1326844",
   "metadata": {},
   "outputs": [],
   "source": [
    "# Verificar si hay valores no mapeados\n",
    "if data['sentimiento_numerico'].isnull().any():\n",
    "    print(\"Advertencia: Hay valores de sentimiento que no se han mapeado correctamente.\")\n",
    "    print(data.loc[data['sentimiento_numerico'].isnull(), 'sentimiento'].unique())\n"
   ]
  },
  {
   "cell_type": "code",
   "execution_count": null,
   "id": "8aeea73a-2fe9-422f-a494-991f44a5bc2a",
   "metadata": {},
   "outputs": [],
   "source": [
    "# Normalizar los valores numéricos de sentimiento\n",
    "data['sentimiento_normalizado'] = (data['sentimiento_numerico'] - data['sentimiento_numerico'].mean()) / data['sentimiento_numerico'].std()"
   ]
  },
  {
   "cell_type": "code",
   "execution_count": null,
   "id": "34d16dba-afae-4f87-a62c-4c9c9eef3f6c",
   "metadata": {},
   "outputs": [],
   "source": [
    "# 1. selección de las columnas de interés\n",
    "numerical_columns = ['Nota final por curso','sentimiento_normalizado']\n",
    "categorical_columns = ['Grado Académico', 'Nombre Catalogo', 'Modo de Enseñanza', 'Centro de Costos', 'Pregunta']"
   ]
  },
  {
   "cell_type": "code",
   "execution_count": null,
   "id": "70ffe3d6-a452-4ad4-9bea-51de6fcabafd",
   "metadata": {},
   "outputs": [],
   "source": [
    "# 2. preprocesamiento: categóricas con onehotencoding y numéricas con escalado\n",
    "# Usamos columntransformer para aplicar diferentes transformaciones a las columnas numéricas y categóricas\n",
    "preprocessor = ColumnTransformer(\n",
    "    transformers=[\n",
    "        ('num', StandardScaler(), numerical_columns),\n",
    "        ('cat', OneHotEncoder(), categorical_columns)\n",
    "    ])"
   ]
  },
  {
   "cell_type": "code",
   "execution_count": null,
   "id": "34b7440e-de6e-42bd-893e-a87f9f0000b6",
   "metadata": {},
   "outputs": [],
   "source": [
    "# 3. crear un pipeline que primero aplica el preprocesamiento y luego la clusterización\n",
    "pipeline = Pipeline(steps=[('preprocessor', preprocessor)])"
   ]
  },
  {
   "cell_type": "code",
   "execution_count": null,
   "id": "cbd8bf23-233e-46f9-85a4-655703646abc",
   "metadata": {},
   "outputs": [],
   "source": [
    "# 4. transformar los datos\n",
    "data_preprocessed = pipeline.fit_transform(data)\n",
    "\n",
    "# Convertimos la matriz dispersa a densa\n",
    "data_preprocessed_dense = data_preprocessed.toarray()"
   ]
  },
  {
   "cell_type": "code",
   "execution_count": null,
   "id": "12cff770-2aa6-4d2b-a4fe-85bb575555b9",
   "metadata": {},
   "outputs": [],
   "source": [
    "# 5. método del codo para determinar el número óptimo de clústeres\n",
    "inertia = []\n",
    "range_n_clusters = range(1, 11)  # Probar con diferentes valores de k (de 1 a 10)\n",
    "for k in range_n_clusters:\n",
    "    kmeans = KMeans(n_clusters=k, random_state=42)\n",
    "    kmeans.fit(data_preprocessed_dense)\n",
    "    inertia.append(kmeans.inertia_)\n",
    "\n",
    "# Graficar el método del codo\n",
    "plt.figure(figsize=(8, 6))\n",
    "plt.plot(range_n_clusters, inertia, marker='o')\n",
    "plt.title('Método del Codo')\n",
    "plt.xlabel('Número de Clústeres')\n",
    "plt.ylabel('Inercia')\n",
    "plt.show()"
   ]
  },
  {
   "cell_type": "code",
   "execution_count": null,
   "id": "1cadee4f-cdba-4471-a119-62a60efc3f05",
   "metadata": {},
   "outputs": [],
   "source": [
    "# A continuación, supongamos que determinamos que el número óptimo de clústeres es, por ejemplo, 4.\n",
    "optimal_clusters = 4\n",
    "\n",
    "# 6. aplicamos kmeans con el número óptimo de clústeres\n",
    "kmeans = KMeans(n_clusters=optimal_clusters, random_state=42)\n",
    "data['Cluster'] = kmeans.fit_predict(data_preprocessed_dense)\n",
    "\n",
    "# Mostrar las primeras filas del dataframe con la nueva columna de clústeres\n",
    "print(data.head())"
   ]
  },
  {
   "cell_type": "code",
   "execution_count": null,
   "id": "ccd8cd40-acad-4719-b122-d1a77a6e49c5",
   "metadata": {},
   "outputs": [],
   "source": [
    "for i in range(4):\n",
    "    print(f\"\\nCluster {i+1}:\")\n",
    "    print(data[data['Cluster'] == i]['sentimiento'].head(5))"
   ]
  },
  {
   "cell_type": "code",
   "execution_count": null,
   "id": "2553d2ae-2c1a-47b0-a25c-6d77eba87107",
   "metadata": {},
   "outputs": [],
   "source": [
    "# Dasboard"
   ]
  },
  {
   "cell_type": "code",
   "execution_count": null,
   "id": "6ea2273b-5401-4b00-be5c-ee9b476bc9c4",
   "metadata": {},
   "outputs": [],
   "source": [
    "# 1. cargar y preparar los datos\n",
    "# Suponemos que ya tienes el dataframe 'data' con las columnas relevantes: cluster y sentimiento\n",
    "# Si el dataframe contiene nans, podrías querer hacer una limpieza aquí.\n",
    "data = data.copy()"
   ]
  },
  {
   "cell_type": "code",
   "execution_count": null,
   "id": "bb3be2a8-e40c-45b8-bb9e-b2d084073e3f",
   "metadata": {},
   "outputs": [],
   "source": [
    "\n",
    "# 2. crear el dashboard de dash\n",
    "app = dash.Dash(__name__)\n",
    "\n",
    "# Layout del dashboard\n",
    "app.layout = html.Div([\n",
    "# # título\n",
    "    html.H1(\"Análisis Interactivo de Segmentación y Sentimiento\"),\n",
    "    \n",
    "# # filtro para seleccionar el cluster\n",
    "    html.Label(\"Selecciona un Cluster:\"),\n",
    "    dcc.Dropdown(\n",
    "        id='cluster-dropdown',\n",
    "        options=[{'label': f'Cluster {i}', 'value': i} for i in range(data['Cluster'].nunique())],\n",
    "        value=0,  # Valor por defecto (cluster 0)\n",
    "        multi=False\n",
    "    ),\n",
    "    \n",
    "# # gráfico 1: distribución de las notas finales por curso según el clúster\n",
    "    html.Div([\n",
    "        dcc.Graph(id='nota-final-curso')\n",
    "    ]),\n",
    "    \n",
    "# # gráfico 2: sentimiento promedio por clúster\n",
    "    html.Div([\n",
    "        dcc.Graph(id='sentimiento-promedio')\n",
    "    ]),\n",
    "    \n",
    "# # gráfico 3: relación entre el sentimiento y las notas finales por curso\n",
    "    html.Div([\n",
    "        dcc.Graph(id='sentimiento-vs-nota')\n",
    "    ]),\n",
    "    \n",
    "# # gráfico 4: distribución de las variables categóricas\n",
    "    html.Div([\n",
    "        dcc.Graph(id='distribucion-categoricas')\n",
    "    ])\n",
    "])\n",
    "\n",
    "# Callback para actualizar los gráficos según el clúster seleccionado\n",
    "@app.callback(\n",
    "    [Output('nota-final-curso', 'figure'),\n",
    "     Output('sentimiento-promedio', 'figure'),\n",
    "     Output('sentimiento-vs-nota', 'figure'),\n",
    "     Output('distribucion-categoricas', 'figure')],\n",
    "    [Input('cluster-dropdown', 'value')]\n",
    ")\n",
    "def update_graphs(selected_cluster):\n",
    "# # filtrar los datos por el cluster seleccionado\n",
    "    filtered_data = data[data['Cluster'] == selected_cluster]\n",
    "\n",
    "# # 1. gráfico: distribución de las notas finales por curso según el clúster\n",
    "    fig1 = px.histogram(filtered_data, x='Nota final por curso', nbins=20, title=f'Distribución de las Notas Finales por Curso (Cluster {selected_cluster})')\n",
    "    \n",
    "# # 2. gráfico: sentimiento promedio por clúster\n",
    "    fig2 = px.box(filtered_data, y='sentimiento', title=f'Sentimiento Promedio por Cluster {selected_cluster}')\n",
    "    \n",
    "# # 3. gráfico: relación entre el sentimiento y las notas finales por curso\n",
    "    fig3 = px.scatter(filtered_data, x='Nota final por curso', y='sentimiento', \n",
    "                      title=f'Relación entre Sentimiento y Nota Final por Curso (Cluster {selected_cluster})')\n",
    "\n",
    "# # 4. gráfico: distribución de las variables categóricas (grado académico, modo de enseñanza, etc.)\n",
    "    fig4 = px.histogram(filtered_data, x='Grado Académico', color='Modo de Enseñanza', \n",
    "                         title=f'Distribución por Grado Académico y Modo de Enseñanza (Cluster {selected_cluster})')\n",
    "\n",
    "    return fig1, fig2, fig3, fig4\n",
    "\n",
    "# Ejecutar el servidor\n",
    "if __name__ == '__main__':\n",
    "    app.run_server(debug=True)\n"
   ]
  }
 ],
 "metadata": {
  "kernelspec": {
   "display_name": "Python 3 (ipykernel)",
   "language": "python",
   "name": "python3"
  },
  "language_info": {
   "codemirror_mode": {
    "name": "ipython",
    "version": 3
   },
   "file_extension": ".py",
   "mimetype": "text/x-python",
   "name": "python",
   "nbconvert_exporter": "python",
   "pygments_lexer": "ipython3",
   "version": "3.11.7"
  }
 },
 "nbformat": 4,
 "nbformat_minor": 5
}
